{
 "cells": [
  {
   "cell_type": "code",
   "execution_count": 231,
   "metadata": {},
   "outputs": [],
   "source": [
    "import json\n",
    "import psycopg2\n",
    "from psycopg2.extras import RealDictCursor"
   ]
  },
  {
   "cell_type": "markdown",
   "metadata": {},
   "source": [
    "### Get Connection Info"
   ]
  },
  {
   "cell_type": "markdown",
   "metadata": {},
   "source": [
    "You'll need to create a file named connection_info.json in the same directory as this notebook. There should be a template for this file at *./connection_info\\_template.json*.<br/>\n",
    "\n",
    "Your connection_info.json file should look something like this (with the same keys):<br/>\n",
    "{'db_host': 'databaseURL', 'db_name': 'databasename', 'db_user': 'databaseusername', 'db_pass': 'usernamepassword'}<br/>"
   ]
  },
  {
   "cell_type": "markdown",
   "metadata": {},
   "source": [
    "This keeps our database credentials safe; we can share this repo publicly because connection_info.json is in our .gitignore."
   ]
  },
  {
   "cell_type": "code",
   "execution_count": 232,
   "metadata": {},
   "outputs": [],
   "source": [
    "with open('./connection_info.json', 'r') as myfile:\n",
    "    connection_info = json.loads(myfile.read())"
   ]
  },
  {
   "cell_type": "code",
   "execution_count": 234,
   "metadata": {},
   "outputs": [],
   "source": [
    "db_host = connection_info['db_host']\n",
    "db_name = connection_info['db_name']\n",
    "db_user = connection_info['db_user']\n",
    "db_pass = connection_info['db_pass']"
   ]
  },
  {
   "cell_type": "markdown",
   "metadata": {},
   "source": [
    "### Connect"
   ]
  },
  {
   "cell_type": "markdown",
   "metadata": {},
   "source": [
    "Uses the connection info we retrieved from the connection_info.json file. If you're running this code in an AWS Lambda, simply declare db_name, db_user, etc as global variables at the top of the lambda handler file (or as environment variables: https://docs.aws.amazon.com/lambda/latest/dg/configuration-envvars.html)."
   ]
  },
  {
   "cell_type": "code",
   "execution_count": 236,
   "metadata": {},
   "outputs": [],
   "source": [
    "def create_conn():\n",
    "    \"\"\"Connect to a Postgres database with psycopg2.\n",
    "\n",
    "    Must provide host address, database name, username, and password, as\n",
    "    global variables: db_name, db_user, db_pass, db_host.\n",
    "    Connects to port 5432 by default.\n",
    "    :return: A connection object (used by psycopg2 to query database).\n",
    "    \"\"\"\n",
    "    conn = None\n",
    "    try:\n",
    "        conn = psycopg2.connect(\"dbname={} user={} host={} password={}\" \\\n",
    "          .format(db_name,db_user,db_host,db_pass))\n",
    "    except:\n",
    "        print(\"Cannot connect to PostgreSQL database at port 5432. Check \\\n",
    "        database name, Postgresql username and password, and database host \\\n",
    "        address.\")\n",
    "    return conn"
   ]
  },
  {
   "cell_type": "markdown",
   "metadata": {},
   "source": [
    "### Query"
   ]
  },
  {
   "cell_type": "code",
   "execution_count": 237,
   "metadata": {},
   "outputs": [],
   "source": [
    "def fetch(conn, query):\n",
    "    \"\"\"Execute a Postgres query with psycopg2 and return the results.\n",
    "    \n",
    "    Return results as a list of json dictionaries. Row order is preserved.\n",
    "    Each row is a separate dictionary. Field names are keys. Values can be \n",
    "    strings or integers. For example:\n",
    "    [\n",
    "     { \"First Name\": \"Bobby\", \"Age\": 30 },\n",
    "     { \"First Name\": \"Jacques\", \"Age\": 34 }\n",
    "    ]\n",
    "    :return: A list of dictionaries.\n",
    "    \"\"\"\n",
    "    # You can delete the cursor_factory argument to return a list of lists:\n",
    "    cur = conn.cursor(cursor_factory=psycopg2.extras.RealDictCursor)\n",
    "    cur.mogrify(query)  # exact str that will be sent to db (for debugging)\n",
    "    cur.execute(query)\n",
    "    \n",
    "    '''\n",
    "    After an execute call, the results can be retrieved from the cursor. The\n",
    "    cursor object is iterable (\"for row in cursor\").\n",
    "    Some helpful methods:\n",
    "      - fetchone()\n",
    "      - fetchmany(int)\n",
    "      - fetchall()\n",
    "      - rowcount() (read-only, returns number of rows)\n",
    "      - query() (read-only, returns body of last query)\n",
    "    '''\n",
    "    results = cur.fetchall()\n",
    "    results_as_json = json.dumps(results, default=str, indent=2)\n",
    "    return results_as_json"
   ]
  },
  {
   "cell_type": "markdown",
   "metadata": {},
   "source": [
    "### Test it:"
   ]
  },
  {
   "cell_type": "code",
   "execution_count": 238,
   "metadata": {},
   "outputs": [
    {
     "name": "stdout",
     "output_type": "stream",
     "text": [
      "[\n",
      "  {\n",
      "    \"politician_id\": 24,\n",
      "    \"name_family\": \"Bennett\",\n",
      "    \"name_given\": \"Carolyn\",\n",
      "    \"twitter\": \"Carolyn_Bennett\",\n",
      "    \"riding_name\": \"Toronto--St. Paul's\",\n",
      "    \"riding_province\": \"ON\",\n",
      "    \"party_name_en\": \"Liberal\",\n",
      "    \"start_date\": \"2015-10-19\",\n",
      "    \"headshot\": \"BennettCarolyn\"\n",
      "  },\n",
      "  {\n",
      "    \"politician_id\": 612,\n",
      "    \"name_family\": \"McLeod\",\n",
      "    \"name_given\": \"Cathy\",\n",
      "    \"twitter\": \"Cathy_McLeod\",\n",
      "    \"riding_name\": \"Kamloops--Thompson--Cariboo\",\n",
      "    \"riding_province\": \"BC\",\n",
      "    \"party_name_en\": \"Conservative\",\n",
      "    \"start_date\": \"2008-11-18\",\n",
      "    \"headshot\": \"McLeodCathy\"\n",
      "  }\n",
      "]\n"
     ]
    }
   ],
   "source": [
    "fields = '*'\n",
    "table_name = 'current_electedmember_denormalized'\n",
    "SQL = f'SELECT {fields} FROM {table_name} LIMIT 2;'\n",
    "\n",
    "conn = create_conn()\n",
    "res = fetch(conn, SQL)\n",
    "print(res)"
   ]
  }
 ],
 "metadata": {
  "kernelspec": {
   "display_name": "Python 3",
   "language": "python",
   "name": "python3"
  },
  "language_info": {
   "codemirror_mode": {
    "name": "ipython",
    "version": 3
   },
   "file_extension": ".py",
   "mimetype": "text/x-python",
   "name": "python",
   "nbconvert_exporter": "python",
   "pygments_lexer": "ipython3",
   "version": "3.7.3"
  }
 },
 "nbformat": 4,
 "nbformat_minor": 4
}
